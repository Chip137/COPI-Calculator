{
  "nbformat": 4,
  "nbformat_minor": 0,
  "metadata": {
    "colab": {
      "provenance": [],
      "authorship_tag": "ABX9TyMP2a7Ew50L7gKTHtaDtipe",
      "include_colab_link": true
    },
    "kernelspec": {
      "name": "python3",
      "display_name": "Python 3"
    },
    "language_info": {
      "name": "python"
    }
  },
  "cells": [
    {
      "cell_type": "markdown",
      "metadata": {
        "id": "view-in-github",
        "colab_type": "text"
      },
      "source": [
        "<a href=\"https://colab.research.google.com/github/Chip137/COPI-Calculator/blob/main/COPI_File_Node_Profit_Calculator.ipynb\" target=\"_parent\"><img src=\"https://colab.research.google.com/assets/colab-badge.svg\" alt=\"Open In Colab\"/></a>"
      ]
    },
    {
      "cell_type": "code",
      "source": [
        "import matplotlib.pyplot as plt\n",
        "import numpy as np"
      ],
      "metadata": {
        "id": "PLgrMjUkjnlc"
      },
      "execution_count": 158,
      "outputs": []
    },
    {
      "cell_type": "code",
      "source": [
        "upfront_costs = float(input(\"Upfront costs (e.g. if you need to buy a PC to run the nodes) $: \"))"
      ],
      "metadata": {
        "colab": {
          "base_uri": "https://localhost:8080/"
        },
        "id": "C1Sz6judjndX",
        "outputId": "3cc4fc48-d0fb-4c04-d306-1df3fd37822e"
      },
      "execution_count": 159,
      "outputs": [
        {
          "name": "stdout",
          "output_type": "stream",
          "text": [
            "Upfront costs (e.g. if you need to buy a PC to run the nodes) $: 400\n"
          ]
        }
      ]
    },
    {
      "cell_type": "code",
      "source": [
        "ongoing_yearly_costs = float(input(\"Ongoing yearly costs (e.g. cost of electricity / VPS) $: \"))"
      ],
      "metadata": {
        "colab": {
          "base_uri": "https://localhost:8080/"
        },
        "id": "24ZaYlBQ-110",
        "outputId": "db46ae56-cb24-401f-8c9b-aa07f3e9d9d0"
      },
      "execution_count": 160,
      "outputs": [
        {
          "name": "stdout",
          "output_type": "stream",
          "text": [
            "Ongoing yearly costs (e.g. cost of electricity / VPS) $: 400\n"
          ]
        }
      ]
    },
    {
      "cell_type": "code",
      "source": [
        "avg_node_price = float(input(\"Avg node price payed $: \"))"
      ],
      "metadata": {
        "colab": {
          "base_uri": "https://localhost:8080/"
        },
        "id": "mEbHvLZP-x95",
        "outputId": "66852e21-3761-4592-a4a5-108ee52f07f9"
      },
      "execution_count": 161,
      "outputs": [
        {
          "name": "stdout",
          "output_type": "stream",
          "text": [
            "Avg node price payed $: 280\n"
          ]
        }
      ]
    },
    {
      "cell_type": "code",
      "source": [
        "num_of_nodes = float(input(\"Number of nodes purchased $: \"))"
      ],
      "metadata": {
        "colab": {
          "base_uri": "https://localhost:8080/"
        },
        "id": "YHTwP0Xv-rEZ",
        "outputId": "420b624e-b671-4bf8-ad97-c7dda941b6d8"
      },
      "execution_count": 180,
      "outputs": [
        {
          "name": "stdout",
          "output_type": "stream",
          "text": [
            "Number of nodes purchased $: 1\n"
          ]
        }
      ]
    },
    {
      "cell_type": "code",
      "source": [
        "final_price = float(input(\"Final price of COPI once sold (how much will the copi be worth when you cash out) $: \"))"
      ],
      "metadata": {
        "colab": {
          "base_uri": "https://localhost:8080/"
        },
        "id": "O33eC3QE-rRz",
        "outputId": "4c86bc59-69fc-4214-d2e7-2f8b219132a0"
      },
      "execution_count": 188,
      "outputs": [
        {
          "name": "stdout",
          "output_type": "stream",
          "text": [
            "Final price of COPI once sold (how much will the copi be worth when you cash out) $: 0.4\n"
          ]
        }
      ]
    },
    {
      "cell_type": "code",
      "source": [
        "copi_per_year_per_node = float(input(\"What are the assumed annual rewards in COPI per year?: \"))"
      ],
      "metadata": {
        "colab": {
          "base_uri": "https://localhost:8080/"
        },
        "id": "1sBVv7hj-rjp",
        "outputId": "13076eb6-227e-4a2c-e4fd-68c5f54d193a"
      },
      "execution_count": 164,
      "outputs": [
        {
          "name": "stdout",
          "output_type": "stream",
          "text": [
            "What are the assumed annual rewards in COPI per year?: 1300\n"
          ]
        }
      ]
    },
    {
      "cell_type": "code",
      "source": [
        "start_price = float(input(\"What is the current value of COPI? $: \"))"
      ],
      "metadata": {
        "colab": {
          "base_uri": "https://localhost:8080/"
        },
        "id": "bH89KasgEL9A",
        "outputId": "90de40e4-7585-4d5d-866e-2d526239615d"
      },
      "execution_count": 192,
      "outputs": [
        {
          "name": "stdout",
          "output_type": "stream",
          "text": [
            "What is the current value of COPI? $: 0.11\n"
          ]
        }
      ]
    },
    {
      "cell_type": "code",
      "source": [
        "# Calculate spend and rewards for each year\n",
        "years = np.arange(1, 14)  # Assuming a 10-year period\n",
        "A_spend = ongoing_yearly_costs\n",
        "C_spend = (avg_node_price * num_of_nodes) + upfront_costs\n",
        "yearly_rewards = num_of_nodes * copi_per_year_per_node * final_price\n",
        "value_increase = final_price / start_price\n",
        "direct_copi_value = round((C_spend * value_increase),2)"
      ],
      "metadata": {
        "id": "xLAQ9-GujnTq"
      },
      "execution_count": 205,
      "outputs": []
    },
    {
      "cell_type": "code",
      "source": [
        "# Calculate the spend graph based on the equation y = A_spend * x + C_spend\n",
        "spend_graph = A_spend * years + C_spend\n",
        "rewards_graph = yearly_rewards * years\n",
        "# Plot the graphs\n",
        "plt.plot(years, spend_graph, label='Spending')\n",
        "plt.plot(years, rewards_graph, label='Rewards')\n",
        "\n",
        "plt.xlabel('Years Held')\n",
        "plt.ylabel('$ Amount')\n",
        "plt.title('Spend vs. Rewards Over Time')\n",
        "plt.legend()\n",
        "plt.grid(True)\n",
        "plt.show()"
      ],
      "metadata": {
        "colab": {
          "base_uri": "https://localhost:8080/",
          "height": 472
        },
        "id": "6sCJ-keggJJZ",
        "outputId": "3139c563-9553-4418-dfc6-fc2135f5700f"
      },
      "execution_count": 206,
      "outputs": [
        {
          "output_type": "display_data",
          "data": {
            "text/plain": [
              "<Figure size 640x480 with 1 Axes>"
            ],
            "image/png": "[encoded data removed]"
          },
          "metadata": {}
        }
      ]
    },
    {
      "cell_type": "code",
      "source": [
        "profit_year = (C_spend)/(yearly_rewards - A_spend)\n",
        "if profit_year <= 0:\n",
        "  print(\"You would never profit with the inputted parameters\")\n",
        "else:\n",
        "  print(f\"You would break even after {profit_year} years, assuming you manage to sell the COPI at the price you stated, and all other variables remain unchanged and accurate\")\n",
        "\n",
        "print(f\"If you were to invest all of your initial investment into COPI and no more, you would have earned ${direct_copi_value} instead. You also need to consider that you could have invested the electricity money or VPS cost whislt COPI was rising so this figure is probably slightly higher.\")\n",
        "print(\"Compare this value with the graph values on year and then you can get an idea of the difference between purchasing COPI and a node.\")"
      ],
      "metadata": {
        "colab": {
          "base_uri": "https://localhost:8080/"
        },
        "id": "EVTjgGucmLSX",
        "outputId": "d95af932-6092-4d70-c0c5-9bbe8589dfb3"
      },
      "execution_count": 207,
      "outputs": [
        {
          "output_type": "stream",
          "name": "stdout",
          "text": [
            "You would break even after 5.666666666666667 years, assuming you manage to sell the COPI at the price you stated, and all other variables remain unchanged and accurate\n",
            "If you were to invest all of your initial investment into COPI and no more, you would have earned $2472.73 instead. You also need to consider that you could have invested the electricity money or VPS cost whislt COPI was rising so this figure is probably slightly higher.\n",
            "Compare this value with the graph values on year and then you can get an idea of the difference between purchasing COPI and a node.\n"
          ]
        }
      ]
    }
  ]
}